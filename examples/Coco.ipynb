{
 "cells": [
  {
   "cell_type": "markdown",
   "metadata": {},
   "source": [
    "# Working with Coco"
   ]
  },
  {
   "cell_type": "markdown",
   "metadata": {},
   "source": [
    "## Get Coco (Download)\n",
    "\n",
    "Simply create a coco instance from opendatalake it will automatically download your data."
   ]
  },
  {
   "cell_type": "code",
   "execution_count": 1,
   "metadata": {},
   "outputs": [],
   "source": [
    "from opendatalake.detection.coco import COCO, DATASETS\n",
    "from starttf.utils.hyperparams import HyperParams\n",
    "\n",
    "coco = COCO(HyperParams({\"train\": {}, \"problem\": {\"data_path\": \"D:\\DeepLearning\\datasets\\coco\"}}), DATASETS[0])"
   ]
  },
  {
   "cell_type": "markdown",
   "metadata": {},
   "source": [
    "## Test data for completeness\n",
    "\n",
    "Now that the data is downloaded we have to make sure it was downloaded correctly.\n",
    "To do that we need to iterate over all coco datasets and validate their correctness."
   ]
  },
  {
   "cell_type": "code",
   "execution_count": 2,
   "metadata": {},
   "outputs": [
    {
     "name": "stdout",
     "output_type": "stream",
     "text": [
      "Found broken image: D:\\DeepLearning\\datasets\\coco/images/train2017/000000519706.jpg\n",
      "Repaired image 542 (t=0.8s)\n"
     ]
    }
   ],
   "source": [
    "for dataset in DATASETS:\n",
    "    coco = COCO(HyperParams({\"train\": {}, \"problem\": {\"data_path\": \"D:\\DeepLearning\\datasets\\coco\"}}), dataset)\n",
    "    coco.verify_integrity(auto_repair=True)"
   ]
  },
  {
   "cell_type": "code",
   "execution_count": null,
   "metadata": {},
   "outputs": [],
   "source": []
  }
 ],
 "metadata": {
  "kernelspec": {
   "display_name": "deep_learning",
   "language": "python",
   "name": "deep_learning"
  },
  "language_info": {
   "codemirror_mode": {
    "name": "ipython",
    "version": 3
   },
   "file_extension": ".py",
   "mimetype": "text/x-python",
   "name": "python",
   "nbconvert_exporter": "python",
   "pygments_lexer": "ipython3",
   "version": "3.6.6"
  }
 },
 "nbformat": 4,
 "nbformat_minor": 2
}
